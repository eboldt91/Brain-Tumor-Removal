{
 "cells": [
  {
   "cell_type": "code",
   "execution_count": 4,
   "metadata": {},
   "outputs": [
    {
     "name": "stderr",
     "output_type": "stream",
     "text": [
      "c:\\Users\\H487136\\AppData\\Local\\Programs\\Python\\Python310\\lib\\site-packages\\torchvision\\io\\image.py:13: UserWarning: Failed to load image Python extension: '[WinError 127] The specified procedure could not be found'If you don't plan on using image functionality from `torchvision.io`, you can ignore this warning. Otherwise, there might be something wrong with your environment. Did you have `libjpeg` or `libpng` installed before building `torchvision` from source?\n",
      "  warn(\n",
      "c:\\Users\\H487136\\AppData\\Local\\Programs\\Python\\Python310\\lib\\site-packages\\torchvision\\datapoints\\__init__.py:12: UserWarning: The torchvision.datapoints and torchvision.transforms.v2 namespaces are still Beta. While we do not expect major breaking changes, some APIs may still change according to user feedback. Please submit any feedback you may have in this issue: https://github.com/pytorch/vision/issues/6753, and you can also check out https://github.com/pytorch/vision/issues/7319 to learn more about the APIs that we suspect might involve future changes. You can silence this warning by calling torchvision.disable_beta_transforms_warning().\n",
      "  warnings.warn(_BETA_TRANSFORMS_WARNING)\n",
      "c:\\Users\\H487136\\AppData\\Local\\Programs\\Python\\Python310\\lib\\site-packages\\torchvision\\transforms\\v2\\__init__.py:54: UserWarning: The torchvision.datapoints and torchvision.transforms.v2 namespaces are still Beta. While we do not expect major breaking changes, some APIs may still change according to user feedback. Please submit any feedback you may have in this issue: https://github.com/pytorch/vision/issues/6753, and you can also check out https://github.com/pytorch/vision/issues/7319 to learn more about the APIs that we suspect might involve future changes. You can silence this warning by calling torchvision.disable_beta_transforms_warning().\n",
      "  warnings.warn(_BETA_TRANSFORMS_WARNING)\n"
     ]
    }
   ],
   "source": [
    "import numpy as np\n",
    "from PIL import Image\n",
    "import torch\n",
    "import torch.nn as nn\n",
    "import torchvision\n",
    "from torchvision import transforms\n",
    "from diffusers import RePaintPipeline, RePaintScheduler"
   ]
  },
  {
   "cell_type": "code",
   "execution_count": 19,
   "metadata": {},
   "outputs": [],
   "source": [
    "class TumorRemoval():\n",
    "    def __init__(self, seg_thresh=1, random_state=42):\n",
    "        self.device = torch.device('cuda') if torch.cuda.is_available() else torch.device('cpu')\n",
    "        self.generator = torch.Generator('cpu').manual_seed(random_state)\n",
    "\n",
    "        # Creating the segmentation model\n",
    "        self.seg_model = torchvision.models.segmentation.fcn_resnet50(pretrained=True)\n",
    "        self.seg_model.classifier[4] = torch.nn.Conv2d(512, 1, kernel_size=(1, 1), stride=(1, 1))\n",
    "        self.seg_model.to(self.device)\n",
    "        self.seg_model.load_state_dict(torch.load(\"FCN_resnet50_seg.pth\",  map_location=torch.device('cpu')))\n",
    "        self.seg_thresh = seg_thresh\n",
    "    \n",
    "        # Creating inpainting model\n",
    "        self.repaint_scheduler = RePaintScheduler.from_pretrained(\"Hatman/ddpm-celebahq-finetuned-few-shot-universe\")\n",
    "        self.repaint_model = RePaintPipeline.from_pretrained(\"Hatman/ddpm-celebahq-finetuned-few-shot-universe\", \n",
    "                                                             scheduler=self.repaint_scheduler).to(self.device)\n",
    "\n",
    "\n",
    "    def forward(self, image):\n",
    "        self.seg_model.eval()\n",
    "        image = transforms.ToTensor()(image)\n",
    "        image = image.unsqueeze(0)\n",
    "        newdata = self.seg_model(image.to(device))['out']\n",
    "        mask = (newdata.cpu() < self.seg_thresh).float()\n",
    "        seg_image = (mask) * image.cpu().detach()\n",
    "      \n",
    "        mask_image = transforms.ToPILImage()((mask*255).squeeze().numpy())\n",
    "        seg_image = transforms.ToPILImage()(seg_image.squeeze())\n",
    "        repainted_image = self.repaint_model(image=seg_image, \n",
    "                                             mask_image=mask_image,\n",
    "                                             generator=self.generator,\n",
    "                                             num_inference_steps=30,\n",
    "                                             eta=1,\n",
    "                                             jump_length=10,\n",
    "                                             jump_n_sample=1).images[0]\n",
    "        output = repainted_image.resize((256,256)).convert('L')\n",
    "        \n",
    "        return output"
   ]
  },
  {
   "cell_type": "code",
   "execution_count": null,
   "metadata": {},
   "outputs": [],
   "source": []
  }
 ],
 "metadata": {
  "kernelspec": {
   "display_name": "Python 3",
   "language": "python",
   "name": "python3"
  },
  "language_info": {
   "codemirror_mode": {
    "name": "ipython",
    "version": 3
   },
   "file_extension": ".py",
   "mimetype": "text/x-python",
   "name": "python",
   "nbconvert_exporter": "python",
   "pygments_lexer": "ipython3",
   "version": "3.10.8"
  }
 },
 "nbformat": 4,
 "nbformat_minor": 2
}
